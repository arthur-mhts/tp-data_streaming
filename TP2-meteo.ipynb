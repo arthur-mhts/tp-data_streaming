{
 "cells": [
  {
   "cell_type": "markdown",
   "metadata": {},
   "source": [
    "## Lancement de Zookeeper et Kafka"
   ]
  },
  {
   "cell_type": "code",
   "execution_count": 1,
   "metadata": {},
   "outputs": [
    {
     "name": "stdout",
     "output_type": "stream",
     "text": [
      "[2025-01-27 15:40:33,095] INFO Reading configuration from: ./kafka_2.12-2.6.0/config/zookeeper.properties (org.apache.zookeeper.server.quorum.QuorumPeerConfig)\n",
      "[2025-01-27 15:40:33,102] INFO clientPortAddress is 0.0.0.0:2181 (org.apache.zookeeper.server.quorum.QuorumPeerConfig)\n",
      "[2025-01-27 15:40:33,102] INFO secureClientPort is not set (org.apache.zookeeper.server.quorum.QuorumPeerConfig)\n",
      "[2025-01-27 15:40:33,104] INFO autopurge.snapRetainCount set to 3 (org.apache.zookeeper.server.DatadirCleanupManager)\n",
      "[2025-01-27 15:40:33,104] INFO autopurge.purgeInterval set to 0 (org.apache.zookeeper.server.DatadirCleanupManager)\n",
      "[2025-01-27 15:40:33,104] INFO Purge task is not scheduled. (org.apache.zookeeper.server.DatadirCleanupManager)\n",
      "[2025-01-27 15:40:33,104] WARN Either no config or no quorum defined in config, running  in standalone mode (org.apache.zookeeper.server.quorum.QuorumPeerMain)\n",
      "[2025-01-27 15:40:33,107] INFO Log4j 1.2 jmx support found and enabled. (org.apache.zookeeper.jmx.ManagedUtil)\n",
      "[2025-01-27 15:40:33,130] INFO Reading configuration from: ./kafka_2.12-2.6.0/config/zookeeper.properties (org.apache.zookeeper.server.quorum.QuorumPeerConfig)\n",
      "[2025-01-27 15:40:33,130] INFO clientPortAddress is 0.0.0.0:2181 (org.apache.zookeeper.server.quorum.QuorumPeerConfig)\n",
      "[2025-01-27 15:40:33,130] INFO secureClientPort is not set (org.apache.zookeeper.server.quorum.QuorumPeerConfig)\n",
      "[2025-01-27 15:40:33,131] INFO Starting server (org.apache.zookeeper.server.ZooKeeperServerMain)\n",
      "[2025-01-27 15:40:33,133] INFO zookeeper.snapshot.trust.empty : false (org.apache.zookeeper.server.persistence.FileTxnSnapLog)\n",
      "[2025-01-27 15:40:33,144] INFO Server environment:zookeeper.version=3.5.8-f439ca583e70862c3068a1f2a7d4d068eec33315, built on 05/04/2020 15:53 GMT (org.apache.zookeeper.server.ZooKeeperServer)\n",
      "[2025-01-27 15:40:33,144] INFO Server environment:host.name=localhost (org.apache.zookeeper.server.ZooKeeperServer)\n",
      "[2025-01-27 15:40:33,145] INFO Server environment:java.version=21.0.5 (org.apache.zookeeper.server.ZooKeeperServer)\n",
      "[2025-01-27 15:40:33,145] INFO Server environment:java.vendor=Microsoft (org.apache.zookeeper.server.ZooKeeperServer)\n",
      "[2025-01-27 15:40:33,145] INFO Server environment:java.home=/usr/local/sdkman/candidates/java/21.0.5-ms (org.apache.zookeeper.server.ZooKeeperServer)\n",
      "[2025-01-27 15:40:33,145] INFO Server environment:java.class.path=/workspaces/tp-data_streaming/kafka_2.12-2.6.0/bin/../libs/activation-1.1.1.jar:/workspaces/tp-data_streaming/kafka_2.12-2.6.0/bin/../libs/aopalliance-repackaged-2.5.0.jar:/workspaces/tp-data_streaming/kafka_2.12-2.6.0/bin/../libs/argparse4j-0.7.0.jar:/workspaces/tp-data_streaming/kafka_2.12-2.6.0/bin/../libs/audience-annotations-0.5.0.jar:/workspaces/tp-data_streaming/kafka_2.12-2.6.0/bin/../libs/commons-cli-1.4.jar:/workspaces/tp-data_streaming/kafka_2.12-2.6.0/bin/../libs/commons-lang3-3.8.1.jar:/workspaces/tp-data_streaming/kafka_2.12-2.6.0/bin/../libs/connect-api-2.6.0.jar:/workspaces/tp-data_streaming/kafka_2.12-2.6.0/bin/../libs/connect-basic-auth-extension-2.6.0.jar:/workspaces/tp-data_streaming/kafka_2.12-2.6.0/bin/../libs/connect-file-2.6.0.jar:/workspaces/tp-data_streaming/kafka_2.12-2.6.0/bin/../libs/connect-json-2.6.0.jar:/workspaces/tp-data_streaming/kafka_2.12-2.6.0/bin/../libs/connect-mirror-2.6.0.jar:/workspaces/tp-data_streaming/kafka_2.12-2.6.0/bin/../libs/connect-mirror-client-2.6.0.jar:/workspaces/tp-data_streaming/kafka_2.12-2.6.0/bin/../libs/connect-runtime-2.6.0.jar:/workspaces/tp-data_streaming/kafka_2.12-2.6.0/bin/../libs/connect-transforms-2.6.0.jar:/workspaces/tp-data_streaming/kafka_2.12-2.6.0/bin/../libs/hk2-api-2.5.0.jar:/workspaces/tp-data_streaming/kafka_2.12-2.6.0/bin/../libs/hk2-locator-2.5.0.jar:/workspaces/tp-data_streaming/kafka_2.12-2.6.0/bin/../libs/hk2-utils-2.5.0.jar:/workspaces/tp-data_streaming/kafka_2.12-2.6.0/bin/../libs/jackson-annotations-2.10.2.jar:/workspaces/tp-data_streaming/kafka_2.12-2.6.0/bin/../libs/jackson-core-2.10.2.jar:/workspaces/tp-data_streaming/kafka_2.12-2.6.0/bin/../libs/jackson-databind-2.10.2.jar:/workspaces/tp-data_streaming/kafka_2.12-2.6.0/bin/../libs/jackson-dataformat-csv-2.10.2.jar:/workspaces/tp-data_streaming/kafka_2.12-2.6.0/bin/../libs/jackson-datatype-jdk8-2.10.2.jar:/workspaces/tp-data_streaming/kafka_2.12-2.6.0/bin/../libs/jackson-jaxrs-base-2.10.2.jar:/workspaces/tp-data_streaming/kafka_2.12-2.6.0/bin/../libs/jackson-jaxrs-json-provider-2.10.2.jar:/workspaces/tp-data_streaming/kafka_2.12-2.6.0/bin/../libs/jackson-module-jaxb-annotations-2.10.2.jar:/workspaces/tp-data_streaming/kafka_2.12-2.6.0/bin/../libs/jackson-module-paranamer-2.10.2.jar:/workspaces/tp-data_streaming/kafka_2.12-2.6.0/bin/../libs/jackson-module-scala_2.12-2.10.2.jar:/workspaces/tp-data_streaming/kafka_2.12-2.6.0/bin/../libs/jakarta.activation-api-1.2.1.jar:/workspaces/tp-data_streaming/kafka_2.12-2.6.0/bin/../libs/jakarta.annotation-api-1.3.4.jar:/workspaces/tp-data_streaming/kafka_2.12-2.6.0/bin/../libs/jakarta.inject-2.5.0.jar:/workspaces/tp-data_streaming/kafka_2.12-2.6.0/bin/../libs/jakarta.ws.rs-api-2.1.5.jar:/workspaces/tp-data_streaming/kafka_2.12-2.6.0/bin/../libs/jakarta.xml.bind-api-2.3.2.jar:/workspaces/tp-data_streaming/kafka_2.12-2.6.0/bin/../libs/javassist-3.22.0-CR2.jar:/workspaces/tp-data_streaming/kafka_2.12-2.6.0/bin/../libs/javassist-3.26.0-GA.jar:/workspaces/tp-data_streaming/kafka_2.12-2.6.0/bin/../libs/javax.servlet-api-3.1.0.jar:/workspaces/tp-data_streaming/kafka_2.12-2.6.0/bin/../libs/javax.ws.rs-api-2.1.1.jar:/workspaces/tp-data_streaming/kafka_2.12-2.6.0/bin/../libs/jaxb-api-2.3.0.jar:/workspaces/tp-data_streaming/kafka_2.12-2.6.0/bin/../libs/jersey-client-2.28.jar:/workspaces/tp-data_streaming/kafka_2.12-2.6.0/bin/../libs/jersey-common-2.28.jar:/workspaces/tp-data_streaming/kafka_2.12-2.6.0/bin/../libs/jersey-container-servlet-2.28.jar:/workspaces/tp-data_streaming/kafka_2.12-2.6.0/bin/../libs/jersey-container-servlet-core-2.28.jar:/workspaces/tp-data_streaming/kafka_2.12-2.6.0/bin/../libs/jersey-hk2-2.28.jar:/workspaces/tp-data_streaming/kafka_2.12-2.6.0/bin/../libs/jersey-media-jaxb-2.28.jar:/workspaces/tp-data_streaming/kafka_2.12-2.6.0/bin/../libs/jersey-server-2.28.jar:/workspaces/tp-data_streaming/kafka_2.12-2.6.0/bin/../libs/jetty-client-9.4.24.v20191120.jar:/workspaces/tp-data_streaming/kafka_2.12-2.6.0/bin/../libs/jetty-continuation-9.4.24.v20191120.jar:/workspaces/tp-data_streaming/kafka_2.12-2.6.0/bin/../libs/jetty-http-9.4.24.v20191120.jar:/workspaces/tp-data_streaming/kafka_2.12-2.6.0/bin/../libs/jetty-io-9.4.24.v20191120.jar:/workspaces/tp-data_streaming/kafka_2.12-2.6.0/bin/../libs/jetty-security-9.4.24.v20191120.jar:/workspaces/tp-data_streaming/kafka_2.12-2.6.0/bin/../libs/jetty-server-9.4.24.v20191120.jar:/workspaces/tp-data_streaming/kafka_2.12-2.6.0/bin/../libs/jetty-servlet-9.4.24.v20191120.jar:/workspaces/tp-data_streaming/kafka_2.12-2.6.0/bin/../libs/jetty-servlets-9.4.24.v20191120.jar:/workspaces/tp-data_streaming/kafka_2.12-2.6.0/bin/../libs/jetty-util-9.4.24.v20191120.jar:/workspaces/tp-data_streaming/kafka_2.12-2.6.0/bin/../libs/jopt-simple-5.0.4.jar:/workspaces/tp-data_streaming/kafka_2.12-2.6.0/bin/../libs/kafka-clients-2.6.0.jar:/workspaces/tp-data_streaming/kafka_2.12-2.6.0/bin/../libs/kafka-log4j-appender-2.6.0.jar:/workspaces/tp-data_streaming/kafka_2.12-2.6.0/bin/../libs/kafka-streams-2.6.0.jar:/workspaces/tp-data_streaming/kafka_2.12-2.6.0/bin/../libs/kafka-streams-examples-2.6.0.jar:/workspaces/tp-data_streaming/kafka_2.12-2.6.0/bin/../libs/kafka-streams-scala_2.12-2.6.0.jar:/workspaces/tp-data_streaming/kafka_2.12-2.6.0/bin/../libs/kafka-streams-test-utils-2.6.0.jar:/workspaces/tp-data_streaming/kafka_2.12-2.6.0/bin/../libs/kafka-tools-2.6.0.jar:/workspaces/tp-data_streaming/kafka_2.12-2.6.0/bin/../libs/kafka_2.12-2.6.0-sources.jar:/workspaces/tp-data_streaming/kafka_2.12-2.6.0/bin/../libs/kafka_2.12-2.6.0.jar:/workspaces/tp-data_streaming/kafka_2.12-2.6.0/bin/../libs/log4j-1.2.17.jar:/workspaces/tp-data_streaming/kafka_2.12-2.6.0/bin/../libs/lz4-java-1.7.1.jar:/workspaces/tp-data_streaming/kafka_2.12-2.6.0/bin/../libs/maven-artifact-3.6.3.jar:/workspaces/tp-data_streaming/kafka_2.12-2.6.0/bin/../libs/metrics-core-2.2.0.jar:/workspaces/tp-data_streaming/kafka_2.12-2.6.0/bin/../libs/netty-buffer-4.1.50.Final.jar:/workspaces/tp-data_streaming/kafka_2.12-2.6.0/bin/../libs/netty-codec-4.1.50.Final.jar:/workspaces/tp-data_streaming/kafka_2.12-2.6.0/bin/../libs/netty-common-4.1.50.Final.jar:/workspaces/tp-data_streaming/kafka_2.12-2.6.0/bin/../libs/netty-handler-4.1.50.Final.jar:/workspaces/tp-data_streaming/kafka_2.12-2.6.0/bin/../libs/netty-resolver-4.1.50.Final.jar:/workspaces/tp-data_streaming/kafka_2.12-2.6.0/bin/../libs/netty-transport-4.1.50.Final.jar:/workspaces/tp-data_streaming/kafka_2.12-2.6.0/bin/../libs/netty-transport-native-epoll-4.1.50.Final.jar:/workspaces/tp-data_streaming/kafka_2.12-2.6.0/bin/../libs/netty-transport-native-unix-common-4.1.50.Final.jar:/workspaces/tp-data_streaming/kafka_2.12-2.6.0/bin/../libs/osgi-resource-locator-1.0.1.jar:/workspaces/tp-data_streaming/kafka_2.12-2.6.0/bin/../libs/paranamer-2.8.jar:/workspaces/tp-data_streaming/kafka_2.12-2.6.0/bin/../libs/plexus-utils-3.2.1.jar:/workspaces/tp-data_streaming/kafka_2.12-2.6.0/bin/../libs/reflections-0.9.12.jar:/workspaces/tp-data_streaming/kafka_2.12-2.6.0/bin/../libs/rocksdbjni-5.18.4.jar:/workspaces/tp-data_streaming/kafka_2.12-2.6.0/bin/../libs/scala-collection-compat_2.12-2.1.6.jar:/workspaces/tp-data_streaming/kafka_2.12-2.6.0/bin/../libs/scala-java8-compat_2.12-0.9.1.jar:/workspaces/tp-data_streaming/kafka_2.12-2.6.0/bin/../libs/scala-library-2.12.11.jar:/workspaces/tp-data_streaming/kafka_2.12-2.6.0/bin/../libs/scala-logging_2.12-3.9.2.jar:/workspaces/tp-data_streaming/kafka_2.12-2.6.0/bin/../libs/scala-reflect-2.12.11.jar:/workspaces/tp-data_streaming/kafka_2.12-2.6.0/bin/../libs/slf4j-api-1.7.30.jar:/workspaces/tp-data_streaming/kafka_2.12-2.6.0/bin/../libs/slf4j-log4j12-1.7.30.jar:/workspaces/tp-data_streaming/kafka_2.12-2.6.0/bin/../libs/snappy-java-1.1.7.3.jar:/workspaces/tp-data_streaming/kafka_2.12-2.6.0/bin/../libs/validation-api-2.0.1.Final.jar:/workspaces/tp-data_streaming/kafka_2.12-2.6.0/bin/../libs/zookeeper-3.5.8.jar:/workspaces/tp-data_streaming/kafka_2.12-2.6.0/bin/../libs/zookeeper-jute-3.5.8.jar:/workspaces/tp-data_streaming/kafka_2.12-2.6.0/bin/../libs/zstd-jni-1.4.4-7.jar (org.apache.zookeeper.server.ZooKeeperServer)\n",
      "[2025-01-27 15:40:33,146] INFO Server environment:java.library.path=/usr/java/packages/lib:/usr/lib64:/lib64:/lib:/usr/lib (org.apache.zookeeper.server.ZooKeeperServer)\n",
      "[2025-01-27 15:40:33,146] INFO Server environment:java.io.tmpdir=/tmp (org.apache.zookeeper.server.ZooKeeperServer)\n",
      "[2025-01-27 15:40:33,146] INFO Server environment:java.compiler=<NA> (org.apache.zookeeper.server.ZooKeeperServer)\n",
      "[2025-01-27 15:40:33,146] INFO Server environment:os.name=Linux (org.apache.zookeeper.server.ZooKeeperServer)\n",
      "[2025-01-27 15:40:33,146] INFO Server environment:os.arch=amd64 (org.apache.zookeeper.server.ZooKeeperServer)\n",
      "[2025-01-27 15:40:33,146] INFO Server environment:os.version=6.5.0-1025-azure (org.apache.zookeeper.server.ZooKeeperServer)\n",
      "[2025-01-27 15:40:33,146] INFO Server environment:user.name=codespace (org.apache.zookeeper.server.ZooKeeperServer)\n",
      "[2025-01-27 15:40:33,147] INFO Server environment:user.home=/home/codespace (org.apache.zookeeper.server.ZooKeeperServer)\n",
      "[2025-01-27 15:40:33,147] INFO Server environment:user.dir=/workspaces/tp-data_streaming (org.apache.zookeeper.server.ZooKeeperServer)\n",
      "[2025-01-27 15:40:33,147] INFO Server environment:os.memory.free=493MB (org.apache.zookeeper.server.ZooKeeperServer)\n",
      "[2025-01-27 15:40:33,147] INFO Server environment:os.memory.max=512MB (org.apache.zookeeper.server.ZooKeeperServer)\n",
      "[2025-01-27 15:40:33,147] INFO Server environment:os.memory.total=512MB (org.apache.zookeeper.server.ZooKeeperServer)\n",
      "[2025-01-27 15:40:33,148] INFO minSessionTimeout set to 6000 (org.apache.zookeeper.server.ZooKeeperServer)\n",
      "[2025-01-27 15:40:33,149] INFO maxSessionTimeout set to 60000 (org.apache.zookeeper.server.ZooKeeperServer)\n",
      "[2025-01-27 15:40:33,149] INFO Created server with tickTime 3000 minSessionTimeout 6000 maxSessionTimeout 60000 datadir /tmp/zookeeper/version-2 snapdir /tmp/zookeeper/version-2 (org.apache.zookeeper.server.ZooKeeperServer)\n",
      "[2025-01-27 15:40:33,161] INFO Using org.apache.zookeeper.server.NIOServerCnxnFactory as server connection factory (org.apache.zookeeper.server.ServerCnxnFactory)\n",
      "[2025-01-27 15:40:33,164] INFO Configuring NIO connection handler with 10s sessionless connection timeout, 1 selector thread(s), 4 worker threads, and 64 kB direct buffers. (org.apache.zookeeper.server.NIOServerCnxnFactory)\n",
      "[2025-01-27 15:40:33,168] INFO binding to port 0.0.0.0/0.0.0.0:2181 (org.apache.zookeeper.server.NIOServerCnxnFactory)\n",
      "[2025-01-27 15:40:33,185] INFO zookeeper.snapshotSizeFactor = 0.33 (org.apache.zookeeper.server.ZKDatabase)\n",
      "[2025-01-27 15:40:33,188] INFO Snapshotting: 0x0 to /tmp/zookeeper/version-2/snapshot.0 (org.apache.zookeeper.server.persistence.FileTxnSnapLog)\n",
      "[2025-01-27 15:40:33,191] INFO Snapshotting: 0x0 to /tmp/zookeeper/version-2/snapshot.0 (org.apache.zookeeper.server.persistence.FileTxnSnapLog)\n",
      "[2025-01-27 15:40:33,214] INFO Using checkIntervalMs=60000 maxPerMinute=10000 (org.apache.zookeeper.server.ContainerManager)\n",
      "^C\n"
     ]
    }
   ],
   "source": [
    "!./kafka_2.12-2.6.0/bin/zookeeper-server-start.sh ./kafka_2.12-2.6.0/config/zookeeper.properties"
   ]
  },
  {
   "cell_type": "code",
   "execution_count": 2,
   "metadata": {},
   "outputs": [
    {
     "name": "stdout",
     "output_type": "stream",
     "text": [
      "[2025-01-27 15:41:11,441] INFO Registered kafka:type=kafka.Log4jController MBean (kafka.utils.Log4jControllerRegistration$)\n",
      "[2025-01-27 15:41:11,852] INFO Setting -D jdk.tls.rejectClientInitiatedRenegotiation=true to disable client-initiated TLS renegotiation (org.apache.zookeeper.common.X509Util)\n",
      "[2025-01-27 15:41:11,929] INFO Registered signal handlers for TERM, INT, HUP (org.apache.kafka.common.utils.LoggingSignalHandler)\n",
      "[2025-01-27 15:41:11,954] INFO starting (kafka.server.KafkaServer)\n",
      "[2025-01-27 15:41:11,955] INFO Connecting to zookeeper on localhost:2181 (kafka.server.KafkaServer)\n",
      "[2025-01-27 15:41:11,976] INFO [ZooKeeperClient Kafka server] Initializing a new session to localhost:2181. (kafka.zookeeper.ZooKeeperClient)\n",
      "[2025-01-27 15:41:11,981] INFO Client environment:zookeeper.version=3.5.8-f439ca583e70862c3068a1f2a7d4d068eec33315, built on 05/04/2020 15:53 GMT (org.apache.zookeeper.ZooKeeper)\n",
      "[2025-01-27 15:41:11,981] INFO Client environment:host.name=localhost (org.apache.zookeeper.ZooKeeper)\n",
      "[2025-01-27 15:41:11,981] INFO Client environment:java.version=21.0.5 (org.apache.zookeeper.ZooKeeper)\n",
      "[2025-01-27 15:41:11,981] INFO Client environment:java.vendor=Microsoft (org.apache.zookeeper.ZooKeeper)\n",
      "[2025-01-27 15:41:11,983] INFO Client environment:java.home=/usr/local/sdkman/candidates/java/21.0.5-ms (org.apache.zookeeper.ZooKeeper)\n",
      "[2025-01-27 15:41:11,984] INFO Client environment:java.class.path=/workspaces/tp-data_streaming/kafka_2.12-2.6.0/bin/../libs/activation-1.1.1.jar:/workspaces/tp-data_streaming/kafka_2.12-2.6.0/bin/../libs/aopalliance-repackaged-2.5.0.jar:/workspaces/tp-data_streaming/kafka_2.12-2.6.0/bin/../libs/argparse4j-0.7.0.jar:/workspaces/tp-data_streaming/kafka_2.12-2.6.0/bin/../libs/audience-annotations-0.5.0.jar:/workspaces/tp-data_streaming/kafka_2.12-2.6.0/bin/../libs/commons-cli-1.4.jar:/workspaces/tp-data_streaming/kafka_2.12-2.6.0/bin/../libs/commons-lang3-3.8.1.jar:/workspaces/tp-data_streaming/kafka_2.12-2.6.0/bin/../libs/connect-api-2.6.0.jar:/workspaces/tp-data_streaming/kafka_2.12-2.6.0/bin/../libs/connect-basic-auth-extension-2.6.0.jar:/workspaces/tp-data_streaming/kafka_2.12-2.6.0/bin/../libs/connect-file-2.6.0.jar:/workspaces/tp-data_streaming/kafka_2.12-2.6.0/bin/../libs/connect-json-2.6.0.jar:/workspaces/tp-data_streaming/kafka_2.12-2.6.0/bin/../libs/connect-mirror-2.6.0.jar:/workspaces/tp-data_streaming/kafka_2.12-2.6.0/bin/../libs/connect-mirror-client-2.6.0.jar:/workspaces/tp-data_streaming/kafka_2.12-2.6.0/bin/../libs/connect-runtime-2.6.0.jar:/workspaces/tp-data_streaming/kafka_2.12-2.6.0/bin/../libs/connect-transforms-2.6.0.jar:/workspaces/tp-data_streaming/kafka_2.12-2.6.0/bin/../libs/hk2-api-2.5.0.jar:/workspaces/tp-data_streaming/kafka_2.12-2.6.0/bin/../libs/hk2-locator-2.5.0.jar:/workspaces/tp-data_streaming/kafka_2.12-2.6.0/bin/../libs/hk2-utils-2.5.0.jar:/workspaces/tp-data_streaming/kafka_2.12-2.6.0/bin/../libs/jackson-annotations-2.10.2.jar:/workspaces/tp-data_streaming/kafka_2.12-2.6.0/bin/../libs/jackson-core-2.10.2.jar:/workspaces/tp-data_streaming/kafka_2.12-2.6.0/bin/../libs/jackson-databind-2.10.2.jar:/workspaces/tp-data_streaming/kafka_2.12-2.6.0/bin/../libs/jackson-dataformat-csv-2.10.2.jar:/workspaces/tp-data_streaming/kafka_2.12-2.6.0/bin/../libs/jackson-datatype-jdk8-2.10.2.jar:/workspaces/tp-data_streaming/kafka_2.12-2.6.0/bin/../libs/jackson-jaxrs-base-2.10.2.jar:/workspaces/tp-data_streaming/kafka_2.12-2.6.0/bin/../libs/jackson-jaxrs-json-provider-2.10.2.jar:/workspaces/tp-data_streaming/kafka_2.12-2.6.0/bin/../libs/jackson-module-jaxb-annotations-2.10.2.jar:/workspaces/tp-data_streaming/kafka_2.12-2.6.0/bin/../libs/jackson-module-paranamer-2.10.2.jar:/workspaces/tp-data_streaming/kafka_2.12-2.6.0/bin/../libs/jackson-module-scala_2.12-2.10.2.jar:/workspaces/tp-data_streaming/kafka_2.12-2.6.0/bin/../libs/jakarta.activation-api-1.2.1.jar:/workspaces/tp-data_streaming/kafka_2.12-2.6.0/bin/../libs/jakarta.annotation-api-1.3.4.jar:/workspaces/tp-data_streaming/kafka_2.12-2.6.0/bin/../libs/jakarta.inject-2.5.0.jar:/workspaces/tp-data_streaming/kafka_2.12-2.6.0/bin/../libs/jakarta.ws.rs-api-2.1.5.jar:/workspaces/tp-data_streaming/kafka_2.12-2.6.0/bin/../libs/jakarta.xml.bind-api-2.3.2.jar:/workspaces/tp-data_streaming/kafka_2.12-2.6.0/bin/../libs/javassist-3.22.0-CR2.jar:/workspaces/tp-data_streaming/kafka_2.12-2.6.0/bin/../libs/javassist-3.26.0-GA.jar:/workspaces/tp-data_streaming/kafka_2.12-2.6.0/bin/../libs/javax.servlet-api-3.1.0.jar:/workspaces/tp-data_streaming/kafka_2.12-2.6.0/bin/../libs/javax.ws.rs-api-2.1.1.jar:/workspaces/tp-data_streaming/kafka_2.12-2.6.0/bin/../libs/jaxb-api-2.3.0.jar:/workspaces/tp-data_streaming/kafka_2.12-2.6.0/bin/../libs/jersey-client-2.28.jar:/workspaces/tp-data_streaming/kafka_2.12-2.6.0/bin/../libs/jersey-common-2.28.jar:/workspaces/tp-data_streaming/kafka_2.12-2.6.0/bin/../libs/jersey-container-servlet-2.28.jar:/workspaces/tp-data_streaming/kafka_2.12-2.6.0/bin/../libs/jersey-container-servlet-core-2.28.jar:/workspaces/tp-data_streaming/kafka_2.12-2.6.0/bin/../libs/jersey-hk2-2.28.jar:/workspaces/tp-data_streaming/kafka_2.12-2.6.0/bin/../libs/jersey-media-jaxb-2.28.jar:/workspaces/tp-data_streaming/kafka_2.12-2.6.0/bin/../libs/jersey-server-2.28.jar:/workspaces/tp-data_streaming/kafka_2.12-2.6.0/bin/../libs/jetty-client-9.4.24.v20191120.jar:/workspaces/tp-data_streaming/kafka_2.12-2.6.0/bin/../libs/jetty-continuation-9.4.24.v20191120.jar:/workspaces/tp-data_streaming/kafka_2.12-2.6.0/bin/../libs/jetty-http-9.4.24.v20191120.jar:/workspaces/tp-data_streaming/kafka_2.12-2.6.0/bin/../libs/jetty-io-9.4.24.v20191120.jar:/workspaces/tp-data_streaming/kafka_2.12-2.6.0/bin/../libs/jetty-security-9.4.24.v20191120.jar:/workspaces/tp-data_streaming/kafka_2.12-2.6.0/bin/../libs/jetty-server-9.4.24.v20191120.jar:/workspaces/tp-data_streaming/kafka_2.12-2.6.0/bin/../libs/jetty-servlet-9.4.24.v20191120.jar:/workspaces/tp-data_streaming/kafka_2.12-2.6.0/bin/../libs/jetty-servlets-9.4.24.v20191120.jar:/workspaces/tp-data_streaming/kafka_2.12-2.6.0/bin/../libs/jetty-util-9.4.24.v20191120.jar:/workspaces/tp-data_streaming/kafka_2.12-2.6.0/bin/../libs/jopt-simple-5.0.4.jar:/workspaces/tp-data_streaming/kafka_2.12-2.6.0/bin/../libs/kafka-clients-2.6.0.jar:/workspaces/tp-data_streaming/kafka_2.12-2.6.0/bin/../libs/kafka-log4j-appender-2.6.0.jar:/workspaces/tp-data_streaming/kafka_2.12-2.6.0/bin/../libs/kafka-streams-2.6.0.jar:/workspaces/tp-data_streaming/kafka_2.12-2.6.0/bin/../libs/kafka-streams-examples-2.6.0.jar:/workspaces/tp-data_streaming/kafka_2.12-2.6.0/bin/../libs/kafka-streams-scala_2.12-2.6.0.jar:/workspaces/tp-data_streaming/kafka_2.12-2.6.0/bin/../libs/kafka-streams-test-utils-2.6.0.jar:/workspaces/tp-data_streaming/kafka_2.12-2.6.0/bin/../libs/kafka-tools-2.6.0.jar:/workspaces/tp-data_streaming/kafka_2.12-2.6.0/bin/../libs/kafka_2.12-2.6.0-sources.jar:/workspaces/tp-data_streaming/kafka_2.12-2.6.0/bin/../libs/kafka_2.12-2.6.0.jar:/workspaces/tp-data_streaming/kafka_2.12-2.6.0/bin/../libs/log4j-1.2.17.jar:/workspaces/tp-data_streaming/kafka_2.12-2.6.0/bin/../libs/lz4-java-1.7.1.jar:/workspaces/tp-data_streaming/kafka_2.12-2.6.0/bin/../libs/maven-artifact-3.6.3.jar:/workspaces/tp-data_streaming/kafka_2.12-2.6.0/bin/../libs/metrics-core-2.2.0.jar:/workspaces/tp-data_streaming/kafka_2.12-2.6.0/bin/../libs/netty-buffer-4.1.50.Final.jar:/workspaces/tp-data_streaming/kafka_2.12-2.6.0/bin/../libs/netty-codec-4.1.50.Final.jar:/workspaces/tp-data_streaming/kafka_2.12-2.6.0/bin/../libs/netty-common-4.1.50.Final.jar:/workspaces/tp-data_streaming/kafka_2.12-2.6.0/bin/../libs/netty-handler-4.1.50.Final.jar:/workspaces/tp-data_streaming/kafka_2.12-2.6.0/bin/../libs/netty-resolver-4.1.50.Final.jar:/workspaces/tp-data_streaming/kafka_2.12-2.6.0/bin/../libs/netty-transport-4.1.50.Final.jar:/workspaces/tp-data_streaming/kafka_2.12-2.6.0/bin/../libs/netty-transport-native-epoll-4.1.50.Final.jar:/workspaces/tp-data_streaming/kafka_2.12-2.6.0/bin/../libs/netty-transport-native-unix-common-4.1.50.Final.jar:/workspaces/tp-data_streaming/kafka_2.12-2.6.0/bin/../libs/osgi-resource-locator-1.0.1.jar:/workspaces/tp-data_streaming/kafka_2.12-2.6.0/bin/../libs/paranamer-2.8.jar:/workspaces/tp-data_streaming/kafka_2.12-2.6.0/bin/../libs/plexus-utils-3.2.1.jar:/workspaces/tp-data_streaming/kafka_2.12-2.6.0/bin/../libs/reflections-0.9.12.jar:/workspaces/tp-data_streaming/kafka_2.12-2.6.0/bin/../libs/rocksdbjni-5.18.4.jar:/workspaces/tp-data_streaming/kafka_2.12-2.6.0/bin/../libs/scala-collection-compat_2.12-2.1.6.jar:/workspaces/tp-data_streaming/kafka_2.12-2.6.0/bin/../libs/scala-java8-compat_2.12-0.9.1.jar:/workspaces/tp-data_streaming/kafka_2.12-2.6.0/bin/../libs/scala-library-2.12.11.jar:/workspaces/tp-data_streaming/kafka_2.12-2.6.0/bin/../libs/scala-logging_2.12-3.9.2.jar:/workspaces/tp-data_streaming/kafka_2.12-2.6.0/bin/../libs/scala-reflect-2.12.11.jar:/workspaces/tp-data_streaming/kafka_2.12-2.6.0/bin/../libs/slf4j-api-1.7.30.jar:/workspaces/tp-data_streaming/kafka_2.12-2.6.0/bin/../libs/slf4j-log4j12-1.7.30.jar:/workspaces/tp-data_streaming/kafka_2.12-2.6.0/bin/../libs/snappy-java-1.1.7.3.jar:/workspaces/tp-data_streaming/kafka_2.12-2.6.0/bin/../libs/validation-api-2.0.1.Final.jar:/workspaces/tp-data_streaming/kafka_2.12-2.6.0/bin/../libs/zookeeper-3.5.8.jar:/workspaces/tp-data_streaming/kafka_2.12-2.6.0/bin/../libs/zookeeper-jute-3.5.8.jar:/workspaces/tp-data_streaming/kafka_2.12-2.6.0/bin/../libs/zstd-jni-1.4.4-7.jar (org.apache.zookeeper.ZooKeeper)\n",
      "[2025-01-27 15:41:11,989] INFO Client environment:java.library.path=/usr/java/packages/lib:/usr/lib64:/lib64:/lib:/usr/lib (org.apache.zookeeper.ZooKeeper)\n",
      "[2025-01-27 15:41:11,989] INFO Client environment:java.io.tmpdir=/tmp (org.apache.zookeeper.ZooKeeper)\n",
      "[2025-01-27 15:41:11,989] INFO Client environment:java.compiler=<NA> (org.apache.zookeeper.ZooKeeper)\n",
      "[2025-01-27 15:41:11,989] INFO Client environment:os.name=Linux (org.apache.zookeeper.ZooKeeper)\n",
      "[2025-01-27 15:41:11,990] INFO Client environment:os.arch=amd64 (org.apache.zookeeper.ZooKeeper)\n",
      "[2025-01-27 15:41:11,991] INFO Client environment:os.version=6.5.0-1025-azure (org.apache.zookeeper.ZooKeeper)\n",
      "[2025-01-27 15:41:11,991] INFO Client environment:user.name=codespace (org.apache.zookeeper.ZooKeeper)\n",
      "[2025-01-27 15:41:11,991] INFO Client environment:user.home=/home/codespace (org.apache.zookeeper.ZooKeeper)\n",
      "[2025-01-27 15:41:11,991] INFO Client environment:user.dir=/workspaces/tp-data_streaming (org.apache.zookeeper.ZooKeeper)\n",
      "[2025-01-27 15:41:11,991] INFO Client environment:os.memory.free=988MB (org.apache.zookeeper.ZooKeeper)\n",
      "[2025-01-27 15:41:11,991] INFO Client environment:os.memory.max=1024MB (org.apache.zookeeper.ZooKeeper)\n",
      "[2025-01-27 15:41:11,991] INFO Client environment:os.memory.total=1024MB (org.apache.zookeeper.ZooKeeper)\n",
      "[2025-01-27 15:41:11,993] INFO Initiating client connection, connectString=localhost:2181 sessionTimeout=18000 watcher=kafka.zookeeper.ZooKeeperClient$ZooKeeperClientWatcher$@1722011b (org.apache.zookeeper.ZooKeeper)\n",
      "[2025-01-27 15:41:12,006] INFO jute.maxbuffer value is 4194304 Bytes (org.apache.zookeeper.ClientCnxnSocket)\n",
      "[2025-01-27 15:41:12,013] INFO zookeeper.request.timeout value is 0. feature enabled= (org.apache.zookeeper.ClientCnxn)\n",
      "[2025-01-27 15:41:12,021] INFO [ZooKeeperClient Kafka server] Waiting until connected. (kafka.zookeeper.ZooKeeperClient)\n",
      "[2025-01-27 15:41:12,023] INFO Opening socket connection to server localhost/127.0.0.1:2181. Will not attempt to authenticate using SASL (unknown error) (org.apache.zookeeper.ClientCnxn)\n",
      "[2025-01-27 15:41:12,031] INFO Socket error occurred: localhost/127.0.0.1:2181: Connection refused (org.apache.zookeeper.ClientCnxn)\n",
      "[2025-01-27 15:41:13,132] INFO Opening socket connection to server localhost/[0:0:0:0:0:0:0:1]:2181. Will not attempt to authenticate using SASL (unknown error) (org.apache.zookeeper.ClientCnxn)\n",
      "[2025-01-27 15:41:13,133] INFO Socket error occurred: localhost/[0:0:0:0:0:0:0:1]:2181: Connection refused (org.apache.zookeeper.ClientCnxn)\n",
      "[2025-01-27 15:41:14,234] INFO Opening socket connection to server localhost/[0:0:0:0:0:0:0:1]:2181. Will not attempt to authenticate using SASL (unknown error) (org.apache.zookeeper.ClientCnxn)\n",
      "[2025-01-27 15:41:14,234] INFO Socket error occurred: localhost/[0:0:0:0:0:0:0:1]:2181: Connection refused (org.apache.zookeeper.ClientCnxn)\n",
      "[2025-01-27 15:41:15,335] INFO Opening socket connection to server localhost/[0:0:0:0:0:0:0:1]:2181. Will not attempt to authenticate using SASL (unknown error) (org.apache.zookeeper.ClientCnxn)\n",
      "[2025-01-27 15:41:15,336] INFO Socket error occurred: localhost/[0:0:0:0:0:0:0:1]:2181: Connection refused (org.apache.zookeeper.ClientCnxn)\n",
      "^C\n",
      "[2025-01-27 15:41:16,061] INFO Terminating process due to signal SIGINT (org.apache.kafka.common.utils.LoggingSignalHandler)\n",
      "[2025-01-27 15:41:16,063] INFO shutting down (kafka.server.KafkaServer)\n",
      "[2025-01-27 15:41:16,065] ERROR Fatal error during KafkaServer shutdown. (kafka.server.KafkaServer)\n",
      "java.lang.IllegalStateException: Kafka server is still starting up, cannot shut down!\n",
      "\tat kafka.server.KafkaServer.shutdown(KafkaServer.scala:643)\n",
      "\tat kafka.server.KafkaServerStartable.shutdown(KafkaServerStartable.scala:54)\n",
      "\tat kafka.Kafka$.$anonfun$main$3(Kafka.scala:80)\n",
      "\tat kafka.utils.Exit$.$anonfun$addShutdownHook$1(Exit.scala:38)\n",
      "\tat java.base/java.lang.Thread.run(Thread.java:1583)\n",
      "[2025-01-27 15:41:16,067] ERROR Halting Kafka. (kafka.server.KafkaServerStartable)\n"
     ]
    }
   ],
   "source": [
    "!./kafka_2.12-2.6.0/bin/kafka-server-start.sh ./kafka_2.12-2.6.0/config/server.properties"
   ]
  },
  {
   "cell_type": "markdown",
   "metadata": {},
   "source": [
    "![Screenshot du lancement](/workspaces/tp-data_streaming/zookeeper-kafka.png)"
   ]
  },
  {
   "cell_type": "markdown",
   "metadata": {},
   "source": [
    "## Création d'un Topic Kafka"
   ]
  },
  {
   "cell_type": "code",
   "execution_count": 3,
   "metadata": {},
   "outputs": [
    {
     "name": "stdout",
     "output_type": "stream",
     "text": [
      "[2025-01-27 15:42:07,872] WARN [AdminClient clientId=adminclient-1] Connection to node -1 (localhost/127.0.0.1:9092) could not be established. Broker may not be available. (org.apache.kafka.clients.NetworkClient)\n",
      "[2025-01-27 15:42:07,994] WARN [AdminClient clientId=adminclient-1] Connection to node -1 (localhost/127.0.0.1:9092) could not be established. Broker may not be available. (org.apache.kafka.clients.NetworkClient)\n",
      "[2025-01-27 15:42:08,195] WARN [AdminClient clientId=adminclient-1] Connection to node -1 (localhost/127.0.0.1:9092) could not be established. Broker may not be available. (org.apache.kafka.clients.NetworkClient)\n",
      "[2025-01-27 15:42:08,396] WARN [AdminClient clientId=adminclient-1] Connection to node -1 (localhost/127.0.0.1:9092) could not be established. Broker may not be available. (org.apache.kafka.clients.NetworkClient)\n",
      "[2025-01-27 15:42:08,899] WARN [AdminClient clientId=adminclient-1] Connection to node -1 (localhost/127.0.0.1:9092) could not be established. Broker may not be available. (org.apache.kafka.clients.NetworkClient)\n",
      "[2025-01-27 15:42:09,702] WARN [AdminClient clientId=adminclient-1] Connection to node -1 (localhost/127.0.0.1:9092) could not be established. Broker may not be available. (org.apache.kafka.clients.NetworkClient)\n",
      "[2025-01-27 15:42:10,705] WARN [AdminClient clientId=adminclient-1] Connection to node -1 (localhost/127.0.0.1:9092) could not be established. Broker may not be available. (org.apache.kafka.clients.NetworkClient)\n",
      "[2025-01-27 15:42:11,608] WARN [AdminClient clientId=adminclient-1] Connection to node -1 (localhost/127.0.0.1:9092) could not be established. Broker may not be available. (org.apache.kafka.clients.NetworkClient)\n",
      "[2025-01-27 15:42:12,512] WARN [AdminClient clientId=adminclient-1] Connection to node -1 (localhost/127.0.0.1:9092) could not be established. Broker may not be available. (org.apache.kafka.clients.NetworkClient)\n",
      "^C\n"
     ]
    }
   ],
   "source": [
    "!./kafka_2.12-2.6.0/bin/kafka-topics.sh --create --bootstrap-server localhost:9092 --replication-factor 1 --partitions 1 --topic tp-weather"
   ]
  },
  {
   "cell_type": "markdown",
   "metadata": {},
   "source": [
    "## Execution des scripts"
   ]
  },
  {
   "cell_type": "code",
   "execution_count": null,
   "metadata": {},
   "outputs": [],
   "source": [
    "!python3.10 producer.py"
   ]
  },
  {
   "cell_type": "code",
   "execution_count": null,
   "metadata": {},
   "outputs": [
    {
     "name": "stdout",
     "output_type": "stream",
     "text": [
      "/bin/bash: /bin/spark-submit: No such file or directory\n"
     ]
    }
   ],
   "source": [
    "!export SPARK_HOME=/workspaces/tp-data_streaming/spark-3.2.3-bin-hadoop2.7\n",
    "!export PATH=$SPARK_HOME/bin:$PATH\n",
    "!$SPARK_HOME/bin/spark-submit --packages org.apache.spark:spark-sql-kafka-0-10_2.12:3.2.3 spark.py"
   ]
  },
  {
   "cell_type": "markdown",
   "metadata": {},
   "source": [
    "# Explications"
   ]
  },
  {
   "cell_type": "markdown",
   "metadata": {},
   "source": [
    "Dans un premier temps, il faut lancer le producer. Celui-ci, va récupérer les données météo de l'API OpenWeather et les enregistrer dans mon topic 'tp-meteo'.\n",
    "Ensuite, je lance spark, qui va traiter les données et les mettre en propre (parser les dates, ajouter des calculs). Enfin cela me renvoie tout dans un nouveau topic, qui est mon topic final. Enfin je récupère ces données et je les affiche sous la forme d'un tableau."
   ]
  },
  {
   "cell_type": "markdown",
   "metadata": {},
   "source": [
    "![Screenshot de mon tableau final](/workspaces/tp-data_streaming/tableau-final.png)"
   ]
  },
  {
   "cell_type": "markdown",
   "metadata": {},
   "source": [
    "![Screenshot de mon tableau final](/workspaces/tp-data_streaming/tableau-final2.png)"
   ]
  }
 ],
 "metadata": {
  "kernelspec": {
   "display_name": "Python 3",
   "language": "python",
   "name": "python3"
  },
  "language_info": {
   "codemirror_mode": {
    "name": "ipython",
    "version": 3
   },
   "file_extension": ".py",
   "mimetype": "text/x-python",
   "name": "python",
   "nbconvert_exporter": "python",
   "pygments_lexer": "ipython3",
   "version": "3.10.16"
  }
 },
 "nbformat": 4,
 "nbformat_minor": 2
}
